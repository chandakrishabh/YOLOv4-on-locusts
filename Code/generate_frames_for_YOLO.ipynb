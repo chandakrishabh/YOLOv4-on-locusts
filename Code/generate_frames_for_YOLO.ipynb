{
 "cells": [
  {
   "cell_type": "code",
   "execution_count": 8,
   "metadata": {},
   "outputs": [],
   "source": [
    "from imutils.video import VideoStream\n",
    "import sys\n",
    "import datetime\n",
    "import imutils\n",
    "import time\n",
    "import cv2\n",
    "from moviepy.editor import VideoFileClip\n",
    "import numpy as np\n",
    "import numpy.matlib\n",
    "import matplotlib.pyplot as plt\n",
    "from scipy import stats\n",
    "from IPython.display import Video\n",
    "import os\n",
    "import random\n",
    "random.seed = 2020\n",
    "import time\n",
    "from matplotlib.animation import FuncAnimation,FFMpegWriter\n",
    "from scipy.signal import find_peaks\n",
    "import gc\n",
    "import glob"
   ]
  },
  {
   "cell_type": "code",
   "execution_count": 9,
   "metadata": {},
   "outputs": [
    {
     "name": "stdout",
     "output_type": "stream",
     "text": [
      "['2021-03-17 11-36-50.206.wmv', '2021-03-17 11-51-56.039.wmv', '2021-03-17 12-03-15.002.wmv']\n"
     ]
    }
   ],
   "source": [
    "date = '031721'\n",
    "fpath = os.path.join('./',date)\n",
    "videos = []\n",
    "for file in os.listdir(fpath):\n",
    "    if file.endswith('.wmv'):\n",
    "        videos.append(file)\n",
    "print(videos)"
   ]
  },
  {
   "cell_type": "code",
   "execution_count": 10,
   "metadata": {},
   "outputs": [],
   "source": [
    "for video in videos[1:]:\n",
    "    fname = os.path.join(fpath,video)\n",
    "    savepath =  os.path.join('./','YOLO',str.split(video,'.')[0])\n",
    "#     savepath =  os.path.join('./','YOLO','images')\n",
    "    if not os.path.exists(savepath):\n",
    "        os.mkdir(savepath)\n",
    "    cap = cv2.VideoCapture(fname)\n",
    "    count = 0\n",
    "\n",
    "    while(True):\n",
    "        res, frame = cap.read()\n",
    "        if res:\n",
    "            count+=1\n",
    "            if count%1 == 0:\n",
    "                filename = str.split(video,'.')[0]+str(count)+'.jpg' #only save till first period due to extension issues in label\n",
    "                savename = os.path.join(savepath,filename)\n",
    "                cv2.imwrite(savename,frame)\n",
    "\n",
    "\n",
    "        else:\n",
    "            break"
   ]
  },
  {
   "cell_type": "code",
   "execution_count": 7,
   "metadata": {},
   "outputs": [
    {
     "data": {
      "text/plain": [
       "'D:\\\\Box\\\\Minimally Invasive Data\\\\fall2020_onwards\\\\walking_box\\\\YOLO\\\\images.zip'"
      ]
     },
     "execution_count": 7,
     "metadata": {},
     "output_type": "execute_result"
    }
   ],
   "source": [
    "import shutil\n",
    "name = 'YOLO/images'\n",
    "shutil.make_archive(name, 'zip', name)"
   ]
  },
  {
   "cell_type": "code",
   "execution_count": null,
   "metadata": {},
   "outputs": [],
   "source": []
  }
 ],
 "metadata": {
  "kernelspec": {
   "display_name": "Python 3",
   "language": "python",
   "name": "python3"
  },
  "language_info": {
   "codemirror_mode": {
    "name": "ipython",
    "version": 3
   },
   "file_extension": ".py",
   "mimetype": "text/x-python",
   "name": "python",
   "nbconvert_exporter": "python",
   "pygments_lexer": "ipython3",
   "version": "3.8.3"
  },
  "varInspector": {
   "cols": {
    "lenName": 16,
    "lenType": 16,
    "lenVar": 40
   },
   "kernels_config": {
    "python": {
     "delete_cmd_postfix": "",
     "delete_cmd_prefix": "del ",
     "library": "var_list.py",
     "varRefreshCmd": "print(var_dic_list())"
    },
    "r": {
     "delete_cmd_postfix": ") ",
     "delete_cmd_prefix": "rm(",
     "library": "var_list.r",
     "varRefreshCmd": "cat(var_dic_list()) "
    }
   },
   "types_to_exclude": [
    "module",
    "function",
    "builtin_function_or_method",
    "instance",
    "_Feature"
   ],
   "window_display": false
  }
 },
 "nbformat": 4,
 "nbformat_minor": 4
}
